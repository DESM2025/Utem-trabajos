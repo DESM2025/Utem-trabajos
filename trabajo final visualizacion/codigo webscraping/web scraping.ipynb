{
 "cells": [
  {
   "cell_type": "code",
   "execution_count": null,
   "id": "a7095324",
   "metadata": {},
   "outputs": [
    {
     "name": "stdout",
     "output_type": "stream",
     "text": [
      "Requirement already satisfied: praw in f:\\anaconda3\\envs\\proyecto\\lib\\site-packages (7.8.1)\n",
      "Requirement already satisfied: pandas in f:\\anaconda3\\envs\\proyecto\\lib\\site-packages (2.3.1)\n",
      "Collecting duckdb\n",
      "  Downloading duckdb-1.3.2-cp311-cp311-win_amd64.whl.metadata (7.2 kB)\n",
      "Requirement already satisfied: prawcore<3,>=2.4 in f:\\anaconda3\\envs\\proyecto\\lib\\site-packages (from praw) (2.4.0)\n",
      "Requirement already satisfied: update_checker>=0.18 in f:\\anaconda3\\envs\\proyecto\\lib\\site-packages (from praw) (0.18.0)\n",
      "Requirement already satisfied: websocket-client>=0.54.0 in f:\\anaconda3\\envs\\proyecto\\lib\\site-packages (from praw) (1.8.0)\n",
      "Requirement already satisfied: requests<3.0,>=2.6.0 in f:\\anaconda3\\envs\\proyecto\\lib\\site-packages (from prawcore<3,>=2.4->praw) (2.32.4)\n",
      "Requirement already satisfied: charset_normalizer<4,>=2 in f:\\anaconda3\\envs\\proyecto\\lib\\site-packages (from requests<3.0,>=2.6.0->prawcore<3,>=2.4->praw) (3.4.2)\n",
      "Requirement already satisfied: idna<4,>=2.5 in f:\\anaconda3\\envs\\proyecto\\lib\\site-packages (from requests<3.0,>=2.6.0->prawcore<3,>=2.4->praw) (3.10)\n",
      "Requirement already satisfied: urllib3<3,>=1.21.1 in f:\\anaconda3\\envs\\proyecto\\lib\\site-packages (from requests<3.0,>=2.6.0->prawcore<3,>=2.4->praw) (2.5.0)\n",
      "Requirement already satisfied: certifi>=2017.4.17 in f:\\anaconda3\\envs\\proyecto\\lib\\site-packages (from requests<3.0,>=2.6.0->prawcore<3,>=2.4->praw) (2025.6.15)\n",
      "Requirement already satisfied: numpy>=1.23.2 in f:\\anaconda3\\envs\\proyecto\\lib\\site-packages (from pandas) (2.2.6)\n",
      "Requirement already satisfied: python-dateutil>=2.8.2 in f:\\anaconda3\\envs\\proyecto\\lib\\site-packages (from pandas) (2.9.0.post0)\n",
      "Requirement already satisfied: pytz>=2020.1 in f:\\anaconda3\\envs\\proyecto\\lib\\site-packages (from pandas) (2025.2)\n",
      "Requirement already satisfied: tzdata>=2022.7 in f:\\anaconda3\\envs\\proyecto\\lib\\site-packages (from pandas) (2025.2)\n",
      "Requirement already satisfied: six>=1.5 in f:\\anaconda3\\envs\\proyecto\\lib\\site-packages (from python-dateutil>=2.8.2->pandas) (1.17.0)\n",
      "Downloading duckdb-1.3.2-cp311-cp311-win_amd64.whl (11.4 MB)\n",
      "   ---------------------------------------- 0.0/11.4 MB ? eta -:--:--\n",
      "   ---------------------------------------- 11.4/11.4 MB 54.8 MB/s eta 0:00:00\n",
      "Installing collected packages: duckdb\n",
      "Successfully installed duckdb-1.3.2\n"
     ]
    }
   ],
   "source": [
    "!pip install praw pandas duckdb"
   ]
  },
  {
   "cell_type": "code",
   "execution_count": 2,
   "id": "053cf848",
   "metadata": {},
   "outputs": [
    {
     "name": "stdout",
     "output_type": "stream",
     "text": [
      "Collecting datetime\n",
      "  Using cached DateTime-5.5-py3-none-any.whl.metadata (33 kB)\n",
      "Collecting zope.interface (from datetime)\n",
      "  Downloading zope.interface-7.2-cp311-cp311-win_amd64.whl.metadata (45 kB)\n",
      "Requirement already satisfied: pytz in f:\\anaconda3\\envs\\proyecto\\lib\\site-packages (from datetime) (2025.2)\n",
      "Requirement already satisfied: setuptools in f:\\anaconda3\\envs\\proyecto\\lib\\site-packages (from zope.interface->datetime) (78.1.1)\n",
      "Using cached DateTime-5.5-py3-none-any.whl (52 kB)\n",
      "Downloading zope.interface-7.2-cp311-cp311-win_amd64.whl (212 kB)\n",
      "Installing collected packages: zope.interface, datetime\n",
      "\n",
      "   ---------------------------------------- 0/2 [zope.interface]\n",
      "   ---------------------------------------- 0/2 [zope.interface]\n",
      "   ---------------------------------------- 0/2 [zope.interface]\n",
      "   ---------------------------------------- 0/2 [zope.interface]\n",
      "   -------------------- ------------------- 1/2 [datetime]\n",
      "   ---------------------------------------- 2/2 [datetime]\n",
      "\n",
      "Successfully installed datetime-5.5 zope.interface-7.2\n"
     ]
    }
   ],
   "source": [
    "!pip install datetime"
   ]
  },
  {
   "cell_type": "code",
   "execution_count": null,
   "id": "05adfb26",
   "metadata": {},
   "outputs": [
    {
     "name": "stdout",
     "output_type": "stream",
     "text": [
      "f:\\U\\visualizacion\\final\n"
     ]
    }
   ],
   "source": [
    "import os\n",
    "print(os.getcwd())"
   ]
  },
  {
   "cell_type": "code",
   "execution_count": null,
   "id": "ed6dab57",
   "metadata": {},
   "outputs": [],
   "source": [
    "import pandas as pd\n",
    "import praw\n",
    "import datetime\n",
    "import numpy as numpy\n",
    "import duckdb"
   ]
  },
  {
   "cell_type": "code",
   "execution_count": null,
   "id": "aeb960b0",
   "metadata": {},
   "outputs": [],
   "source": [
    "#credencial \n",
    "reddit = praw.Reddit(\n",
    "                                    client_id=\"BlITQKHTmAdDpt-RuC3Xlw\", \n",
    "                                    client_secret=\"gVHTWcDqVl_MJsYcMl_UadJcLFw4lA\", \n",
    "                                    user_agent=\"banshhe02\"\n",
    "                                    )"
   ]
  },
  {
   "cell_type": "code",
   "execution_count": null,
   "id": "21251201",
   "metadata": {},
   "outputs": [],
   "source": [
    "# subreddits\n",
    "mangacollectors=\"MangaCollectors\"\n",
    "manga=\"manga\"\n",
    "anime=\"anime\"\n",
    "\n",
    "#funcion obtiene informacion de un subreddit y la muestra\n",
    "def info_subreddit(subreddit):\n",
    "    print(f\"Nombre completo: r/{subreddit.display_name}\")\n",
    "    print(f\"Título: {subreddit.title}\")\n",
    "    print(f\"Descripción: {subreddit.public_description}\")\n",
    "    print(f\"Suscriptores: {subreddit.subscribers:,}\")\n",
    "    print(f\"Usuarios activos: {subreddit.active_user_count:,}\")\n",
    "    print(f\"Fecha de creación: {datetime.datetime.fromtimestamp(subreddit.created_utc).strftime('%Y-%m-%d %H:%M:%S')}\")"
   ]
  },
  {
   "cell_type": "code",
   "execution_count": null,
   "id": "0f343cce",
   "metadata": {},
   "outputs": [
    {
     "name": "stdout",
     "output_type": "stream",
     "text": [
      "Nombre completo: r/MangaCollectors\n",
      "Título: Manga Collectors\n",
      "Descripción: #####Show off your manga collections and pickups. Discussion posts are encouraged so feel free to create topics about publishers, quality of translations, quality of physical books, excitement about a recent pickup, and more. You do not need to be a collector to participate in this community.\n",
      "\n",
      "---\n",
      "\n",
      "**IMPORTANT LINKS**\n",
      "\n",
      "[Where to Buy Manga](https://www.reddit.com/r/MangaCollectors/comments/cezrxy/best_places_to_buy_manga_for_each_region/)\n",
      "Suscriptores: 1,905,371\n",
      "Usuarios activos: 38\n",
      "Fecha de creación: 2017-10-15 19:03:23\n",
      "Nombre completo: r/manga\n",
      "Título: /r/manga: manga, on reddit.\n",
      "Descripción: Everything and anything manga!  (manhwa/manhua is okay too!)\n",
      "\n",
      "Discuss weekly chapters, find/recommend a new series to read, post a picture of your collection, lurk, etc!\n",
      "Suscriptores: 4,722,122\n",
      "Usuarios activos: 1,614\n",
      "Fecha de creación: 2008-08-09 16:35:11\n",
      "Nombre completo: r/anime\n",
      "Título: /r/Anime\n",
      "Descripción: Reddit's premier anime community.\n",
      "Suscriptores: 13,853,676\n",
      "Usuarios activos: 1,833\n",
      "Fecha de creación: 2008-01-25 02:10:16\n"
     ]
    }
   ],
   "source": [
    "#toma la informacion de los subreddit y la muestra usando la funcion definida arriba\n",
    "info_subreddit(reddit.subreddit(\"MangaCollectors\"))\n",
    "info_subreddit(reddit.subreddit(\"manga\"))\n",
    "info_subreddit(reddit.subreddit(\"anime\"))"
   ]
  },
  {
   "cell_type": "code",
   "execution_count": null,
   "id": "09bd2120",
   "metadata": {},
   "outputs": [],
   "source": [
    "#estructura para almacenar los datos\n",
    "datos = {\n",
    "    'id_post': [],\n",
    "    'titulo_post': [],\n",
    "    \"fecha_post\": [],\n",
    "    \"autor_post\": [],\n",
    "    \"URL\": [],\n",
    "    \"numero_comentarios\": [],\n",
    "    \"texto_post\": [],\n",
    "    \"tiene_texto\": [],\n",
    "    \"puntaje\": [],     \n",
    "    \"upvotes\": [],    \n",
    "    \"downvotes\": []   \n",
    "}"
   ]
  },
  {
   "cell_type": "code",
   "execution_count": 9,
   "id": "26e1b742",
   "metadata": {},
   "outputs": [],
   "source": [
    "def extraccion_info_post(post):\n",
    "    fecha = datetime.datetime.fromtimestamp(post.created_utc).strftime('%Y-%m-%d %H:%M:%S')\n",
    "    autor = str(post.author) if post.author else \"ELIMINADO\"\n",
    "    tiene_texto = \"Sí\" if post.selftext else \"No\"\n",
    "\n",
    "    datos['id_post'].append(post.id)\n",
    "    datos['titulo_post'].append(post.title)\n",
    "    datos['fecha_post'].append(fecha)\n",
    "    datos['autor_post'].append(autor)\n",
    "    datos['URL'].append(post.url)\n",
    "    datos['numero_comentarios'].append(post.num_comments)\n",
    "    datos['texto_post'].append(post.selftext)\n",
    "    datos['tiene_texto'].append(tiene_texto)\n",
    "    datos['puntaje'].append(post.score)\n",
    "    datos['upvotes'].append(post.ups)\n",
    "    datos['downvotes'].append(post.downs)"
   ]
  },
  {
   "cell_type": "code",
   "execution_count": 10,
   "id": "89cb9d2d",
   "metadata": {},
   "outputs": [],
   "source": [
    "subreddits_a_procesar = [\"MangaCollectors\", \"manga\", \"anime\"]\n",
    "limit_por_subreddit = 1000\n",
    "time_filter_period = 'year'\n",
    "\n",
    "for subreddit_nombre in subreddits_a_procesar:\n",
    "    sub = reddit.subreddit(subreddit_nombre)\n",
    "    for submission in sub.top(limit=limit_por_subreddit, time_filter=time_filter_period):\n",
    "        extraccion_info_post(submission)"
   ]
  },
  {
   "cell_type": "markdown",
   "id": "98d91a59",
   "metadata": {},
   "source": [
    "dataframe"
   ]
  },
  {
   "cell_type": "code",
   "execution_count": null,
   "id": "1b7e175f",
   "metadata": {},
   "outputs": [],
   "source": [
    "df_posts = pd.DataFrame(datos)"
   ]
  },
  {
   "cell_type": "code",
   "execution_count": null,
   "id": "3f5d390c",
   "metadata": {},
   "outputs": [
    {
     "name": "stdout",
     "output_type": "stream",
     "text": [
      "   id_post                                        titulo_post  \\\n",
      "0  1esb25s          First time Posting My 7 year collection!    \n",
      "1  1fjfdpg  I’m convinced Barnes & Noble have no idea what...   \n",
      "2  1d752xq                     Maybe I Should Do a Room Tour?   \n",
      "3  1fp5nlw  Just moved into my new house and had to recrea...   \n",
      "4  1d4fojl                            I see this a lot here.    \n",
      "\n",
      "            fecha_post         autor_post  \\\n",
      "0  2024-08-14 15:57:13       YiXiao_Yksha   \n",
      "1  2024-09-17 21:13:04       sendlewdzpls   \n",
      "2  2024-06-03 09:58:06         Wismur10Hp   \n",
      "3  2024-09-25 11:22:05  The_Manga_Monster   \n",
      "4  2024-05-30 18:04:18       jayvancealot   \n",
      "\n",
      "                                      URL  numero_comentarios  \\\n",
      "0  https://www.reddit.com/gallery/1esb25s                 239   \n",
      "1    https://i.redd.it/kykkfhjxmgpd1.jpeg                 191   \n",
      "2  https://www.reddit.com/gallery/1d752xq                 253   \n",
      "3  https://www.reddit.com/gallery/1fp5nlw                 175   \n",
      "4     https://i.redd.it/n3zd0rbozm3d1.png                 272   \n",
      "\n",
      "                                          texto_post tiene_texto  puntaje  \\\n",
      "0  Here is my manga collection of 7 years! It’s m...          Sí     3097   \n",
      "1                                                             No     2330   \n",
      "2                                   A bit of manga 😌          Sí     2318   \n",
      "3              Hope you all love it as much as I do!          Sí     2185   \n",
      "4                                                             No     2095   \n",
      "\n",
      "   upvotes  downvotes  \n",
      "0     3097          0  \n",
      "1     2330          0  \n",
      "2     2318          0  \n",
      "3     2185          0  \n",
      "4     2095          0  \n"
     ]
    }
   ],
   "source": [
    "print(df_posts.head())"
   ]
  },
  {
   "cell_type": "code",
   "execution_count": null,
   "id": "896dcf3a",
   "metadata": {},
   "outputs": [],
   "source": [
    "df_posts.to_csv('posts.csv', index=False, encoding='utf-8')"
   ]
  }
 ],
 "metadata": {
  "kernelspec": {
   "display_name": "proyecto",
   "language": "python",
   "name": "python3"
  },
  "language_info": {
   "codemirror_mode": {
    "name": "ipython",
    "version": 3
   },
   "file_extension": ".py",
   "mimetype": "text/x-python",
   "name": "python",
   "nbconvert_exporter": "python",
   "pygments_lexer": "ipython3",
   "version": "3.11.13"
  }
 },
 "nbformat": 4,
 "nbformat_minor": 5
}
